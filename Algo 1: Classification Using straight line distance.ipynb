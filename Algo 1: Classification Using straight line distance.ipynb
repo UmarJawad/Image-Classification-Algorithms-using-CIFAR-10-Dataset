{
 "cells": [
  {
   "cell_type": "markdown",
   "metadata": {},
   "source": [
    "1. CIFAR-10 – get to know (10 points)\n",
    "CIFAR-10 is a benchmark popular datasets used in machine learning literature for bechmarking different\n",
    "methods. For brief introduction check https://www.cs.toronto.edu/~kriz/cifar.html.\n",
    "Download the dataset to your local computer (perhaps your prefer /worktemp instead of your home directory) from https://tuni-my.sharepoint.com/:u:/g/personal/joni_kamarainen_tuni_fi/EdgoMFSFCKRGiM3QcSZPqxUBZz-moWenG9HPWp_\n",
    "tQ9VISA?e=YAz0Vn. Extract the files and then edit configuration paths in the provided cifar10 illustrate.py.\n",
    "Run the code:\n",
    "(intro_prml) kamarain@Joni-Precision-5520:~/exercises$ python cifar10_illustrate.py\n",
    "The code should randomly plot images from the dataset. Note that the code loads only one of the training\n",
    "batches that each contains 10,000 training samples. Test data is also provided separately (10,000 samples,\n",
    "1,000 per each class)."
   ]
  },
  {
   "cell_type": "code",
   "execution_count": 3,
   "metadata": {},
   "outputs": [],
   "source": [
    "import pickle\n",
    "import numpy as np\n",
    "import matplotlib.pyplot as plt\n",
    "from random import random\n",
    "from scipy import stats\n",
    "from scipy.spatial.distance import cityblock\n",
    "from math import sqrt\n",
    "\n",
    "def unpickle(file):\n",
    "    with open(file, 'rb') as f:\n",
    "        dict = pickle.load(f, encoding=\"latin1\")\n",
    "    return dict\n",
    "\n",
    "\"\"\"OPENING ALL THE FILES INTO ONE ARRAY - An Array of 50000 by 3072 \"\"\"\n",
    "\n",
    "a= 'D:/cifar-10-python/data_batch_1'\n",
    "b= 'D:/cifar-10-python/data_batch_2'\n",
    "c= 'D:/cifar-10-python/data_batch_3'\n",
    "d= 'D:/cifar-10-python/data_batch_4'\n",
    "e= 'D:/cifar-10-python/data_batch_5'\n",
    "\n",
    "#Adding All Files into one Array\n",
    "datadict = unpickle(a)\n",
    "X = datadict[\"data\"].astype(\"int64\") #Basic Data Set with 10,000 rows and 3072 columns\n",
    "Y = datadict[\"labels\"] #contains the number associated with label name\n",
    "\n",
    "for i in [b,c,d,e]:\n",
    "    datadict2 = unpickle(i)\n",
    "    X1 = datadict[\"data\"].astype(\"int32\") #Basic Data Set with 10,000 rows and 3072 columns\n",
    "    Y1 = datadict[\"labels\"] #contains the number associated with label name\n",
    "\n",
    "    X = np.vstack((X,X1)) # Vertical Stack\n",
    "    Y = np.hstack((Y,Y1)) # horizontal Stack\n",
    "  \n",
    "\"\"\"BRINGING IN THE LABEL DATA\"\"\"\n",
    "\n",
    "#number from labels associates with one of the 10 names in this\n",
    "labeldict = unpickle('D:/cifar-10-python/batches.meta')\n",
    "label_names = labeldict[\"label_names\"] \n",
    "\n",
    "Z = X #Simplified, just 50,000 rows and 3072 columns\n",
    "\n",
    "# #Reshaping the data to view it in R,G,B arrays and print the image as well, previous data was just rows of bytes\n",
    "# X = X.reshape(10000, 3, 32, 32).transpose(0,2,3,1).astype(\"int64\") \n",
    "# Y = np.array(Y)\n",
    "\n",
    "\"\"\"CODE FOR SHOWING THE IMAGES - DISABLED FOR NOW\"\"\"\n",
    "\n",
    "#Plotting Some Images \n",
    "# for i in range(16):\n",
    "#     plt.subplot(4,4,i+1)\n",
    "#     plt.imshow(X[i])\n",
    "# plt.show()\n",
    "\n",
    "# for i in range(X.shape[0]):\n",
    "#     # Show some images randomly\n",
    "#     if random() > 0.999:\n",
    "#         plt.figure(1);\n",
    "#         plt.clf()\n",
    "#         plt.imshow(X[i])\n",
    "#         plt.title(f\"Image {i} label={label_names[Y[i]]} (num {Y[i]})\")\n",
    "#         plt.pause(0.5)\n",
    "\n",
    "\"\"\"BRINGING IN THE TEST DATA\"\"\"\n",
    "\n",
    "#Bringing in Test Data\n",
    "testdict = unpickle('D:/cifar-10-python/test_batch')\n",
    "testdict.keys()\n",
    "X_test = testdict['data'].astype(\"int32\")\n",
    "Y_test = np.array(testdict['labels']) #Must convert to array before working\n",
    "\n",
    "Z_test = X_test\n",
    "# #Reshaping the data to view it, previous data was just rows of bytes\n",
    "# X_test = X_test.reshape(10000, 3, 32, 32).transpose(0,2,3,1).astype(\"int64\") \n",
    "# Y_test = np.array(Y_test)\n"
   ]
  },
  {
   "cell_type": "code",
   "execution_count": 26,
   "metadata": {},
   "outputs": [
    {
     "name": "stdout",
     "output_type": "stream",
     "text": [
      "(50000, 3072)\n",
      "(200, 3072)\n",
      "(50000,)\n",
      "(100,)\n"
     ]
    }
   ],
   "source": [
    "\"\"\"\n",
    "SPLITTING INTO TEST AND TRAIN DATA (Smaller sets are taken during development phase)\n",
    "\"\"\"\n",
    "X_train = Z\n",
    "X_test = Z_test[:200]\n",
    "Y_train = Y\n",
    "Y_test = Y_test[:200]\n",
    "\n",
    "print(X_train.shape)\n",
    "print(X_test.shape)\n",
    "print(Y_train.shape)\n",
    "print(Y_test.shape)"
   ]
  },
  {
   "cell_type": "markdown",
   "metadata": {},
   "source": [
    "2. CIFAR-10 – Evaluation (10 points)\n",
    "Write a python function class acc(pred,gt) that computes the classification accuracy for predicted labels\n",
    "pred as compared to the ground truth labels gt (Y values in the provided code). Make sure that your\n",
    "function works properly by using the true labels of CIFAR-10 test samples that should provide perfect\n",
    "accuracy."
   ]
  },
  {
   "cell_type": "code",
   "execution_count": 22,
   "metadata": {},
   "outputs": [
    {
     "name": "stdout",
     "output_type": "stream",
     "text": [
      "Accuracy: 100.0 %\n"
     ]
    }
   ],
   "source": [
    "\"\"\"\n",
    "DEFINING EVALUATION FUNCTION\n",
    "\"\"\"\n",
    "def class_acc(pred,gt):\n",
    "\n",
    "    count = np.count_nonzero(gt == pred)\n",
    "\n",
    "    accuracy = count*100/len(pred)\n",
    "\n",
    "    #print(\"Accuracy:\",accuracy,\"%\")\n",
    "    \n",
    "    return accuracy\n",
    "\n",
    "\n",
    "\"\"\"\n",
    "GIVES 100 % ACCURACY WHEN TESTED WITH ITESELF\n",
    "\"\"\"\n",
    "\n",
    "print(\"Accuracy:\",class_acc(Y,Y),\"%\")"
   ]
  },
  {
   "cell_type": "markdown",
   "metadata": {},
   "source": [
    "3. CIFAR-10 – Random classifier (20 points)\n",
    "Write a function cifar10 classifier random(x) that returns a random class label for the input data x. Make\n",
    "a script that inputs all CIFAR-10 test samples to this function and evaluates its classification accuracy\n",
    "using your evaluation function."
   ]
  },
  {
   "cell_type": "code",
   "execution_count": 23,
   "metadata": {},
   "outputs": [
    {
     "name": "stdout",
     "output_type": "stream",
     "text": [
      "Baseline Accuracy: 9.964 %\n"
     ]
    }
   ],
   "source": [
    "\"\"\"\n",
    "DEFININIG RANDOM CLASSIFIER\n",
    "\"\"\"\n",
    "def cifar10_classifier_random(X):\n",
    "    classes = [0,1,2,3,4,5,6,7,8,9]\n",
    "    Y_pred = []\n",
    "    for i in range(len(X)):\n",
    "        Y_pred.append(np.random.choice(classes))\n",
    "        \n",
    "    return Y_pred\n",
    "\n",
    "\n",
    "\"\"\"\n",
    "BASELINE ACCURACY IS APPROX ~ 10 % upon testing\n",
    "\"\"\"\n",
    "pred = cifar10_classifier_random(X_train)\n",
    "accuracy = class_acc(pred,Y_train)\n",
    "print(\"Baseline Accuracy:\",accuracy,\"%\")"
   ]
  },
  {
   "cell_type": "markdown",
   "metadata": {},
   "source": [
    "![](baseline.png)"
   ]
  },
  {
   "cell_type": "markdown",
   "metadata": {},
   "source": [
    "4. CIFAR-10 – 1-NN classifier (20 points)\n",
    "Write a function cifar10 classifier 1nn(x,trdata,trlabels) that finds the best match of the input vector x in\n",
    "the training set trdata and returns the same label. Make a script that inputs all CIFAR-10 test samples\n",
    "to this function and evaluate its classification accuracy using your evaluation function.\n",
    "Make sure your 1NN function works by testing with the training data itself (should provide perfect\n",
    "accuracy).\n",
    "Hints: During developing stage you might want to use only a sub-set of the full data to make evaluation\n",
    "faster."
   ]
  },
  {
   "cell_type": "code",
   "execution_count": 24,
   "metadata": {},
   "outputs": [],
   "source": [
    "def cifar10_classifier_1nn(X,trdata,trlabels,k=1):\n",
    "    \"\"\"\n",
    "    X; test dataset\n",
    "    trdata; training data\n",
    "    trlabels; \n",
    "    k is the number of nearest neighbours to check for\n",
    "    returns; predicted class number/s for the input image/s\n",
    "    \"\"\"\n",
    "    X_test = X \n",
    "    X_train = trdata\n",
    "    Y_train = trlabels\n",
    "    \n",
    "    \n",
    "    \n",
    "    Y_pred = [] #Creating a list to store Predicted class for each image in testing set\n",
    "    \n",
    "    for i in range(0,len(X_test)):\n",
    "        \n",
    "        dist = [] #Creating a list to store euclidean distances and emptying it for next round\n",
    "        \n",
    "        for j in range(0,len(X_train)): \n",
    "            #loop to measure distance of each test image with all the images of the training images\n",
    "            \n",
    "            #euclidian = np.linalg.norm(X_test[i] - X_train[j]) #Euclidean distance\n",
    "            #manhatten = abs(X_test[i] - X_train[j])\n",
    "            manhatten = cityblock(X_test[i],X_train[j])\n",
    "            \n",
    "            #dist.append(euclidian) #eulidean distance is stored in a list\n",
    "            dist.append(manhatten)\n",
    "        \n",
    "        #this list is sorted such that indexes are given for the images from least distnce to max distance  \n",
    "        #argsort gives the index of an array elements in the ascending order\n",
    "        #picking the k-nearest neighbours and taking the most occuring class as prediction\n",
    "        k_nearest  = np.argsort(dist)[:k]  \n",
    "        \n",
    "        #print(k_nearest)              \n",
    "\n",
    "        classes = Y_train[k_nearest]\n",
    "        #print(classes)\n",
    "\n",
    "        most_occuring_class = stats.mode(classes)\n",
    "\n",
    "        #Y_pred.append(label_names[most_occuring_class[0][0]])\n",
    "        Y_pred.append(most_occuring_class[0][0])\n",
    "        \n",
    "    return Y_pred"
   ]
  },
  {
   "cell_type": "code",
   "execution_count": null,
   "metadata": {},
   "outputs": [
    {
     "name": "stderr",
     "output_type": "stream",
     "text": [
      "D:\\Softwares Installed\\Anaconda\\lib\\site-packages\\ipykernel_launcher.py:6: DeprecationWarning: elementwise comparison failed; this will raise an error in the future.\n",
      "  \n"
     ]
    },
    {
     "name": "stdout",
     "output_type": "stream",
     "text": [
      "Accuracy 0.0 %    @ k= 1\n"
     ]
    }
   ],
   "source": [
    "\"\"\"\n",
    "CHECKING ACCURACY OF OUR CLASSIFIER\n",
    "\"\"\"\n",
    "for i in [1,2,3,4,5]:\n",
    "    pred = cifar10_classifier_1nn(X_test,X_train,Y_train,k=i)\n",
    "    y = class_acc(pred,Y_test)\n",
    "    print(\"Accuracy\",y,\"%    @ k=\",i)\n",
    "#     plt.bar(i,y)\n",
    "#     plt.text(i,y, f\"{y}%\")\n",
    "\n"
   ]
  },
  {
   "cell_type": "markdown",
   "metadata": {},
   "source": [
    "\"\"\"BELOW IS ACCURACY SCREENSHOT FOR k = 1, 10 and 100\"\"\""
   ]
  },
  {
   "cell_type": "markdown",
   "metadata": {},
   "source": [
    "![](finalaccuracy.png)"
   ]
  },
  {
   "cell_type": "markdown",
   "metadata": {},
   "source": [
    "#EXCESS WORKING"
   ]
  },
  {
   "cell_type": "code",
   "execution_count": null,
   "metadata": {},
   "outputs": [],
   "source": [
    "# print(np.linalg.norm(X_test[0] - X_train[1])) #Euclidean distance auto\n",
    "# print(math.sqrt(sum((X_test[0] - X_train[1])**2))) #Euclidean distance Manual\n",
    "# print(sqrt(np.dot(X_test[0], X_train[1]))) #Euclidean using dot product\n",
    "\n",
    "# print(sum(abs(X_test[0] - X_train[1]))) #Manhatten Manual\n",
    "# print(cityblock(X_test[0],X_train[1])) #Manhatten Auto"
   ]
  },
  {
   "cell_type": "code",
   "execution_count": null,
   "metadata": {},
   "outputs": [],
   "source": [
    "# #Defining a function to show picture\n",
    "# def show_fig(X,Y,i):\n",
    "#     plt.figure(figsize=(10,2))\n",
    "#     name = label_names[Y[i]]\n",
    "#     plt.imshow(X[i])\n",
    "#     plt.title(f\"Class : {name}\\nClass # {Y[i]}\\nImage # {i}\")\n",
    "    \n",
    "# show_fig(X,Y,1000)"
   ]
  },
  {
   "cell_type": "code",
   "execution_count": null,
   "metadata": {
    "scrolled": false
   },
   "outputs": [],
   "source": [
    "\"\"\"\n",
    "PREDICTION OF A SINGLE IMAGE COMPARED WITH THE TRAINING SET\n",
    "\"\"\"\n",
    "# from scipy import stats\n",
    "# diff = []\n",
    "\n",
    "# for i in range(0,len(X)):\n",
    "#     euclidian = (np.linalg.norm(X[1000] - X[i])) #Euclidean distance\n",
    "#     diff.append(euclidian)\n",
    "# print(diff[:10])\n",
    "# #min_value = min(diff);\n",
    "# #min_index = diff.index(min_value)\n",
    "\n",
    "# k_nearest  = np.argsort(diff)[:1]  #picking the k-nearest neighbours and taking the most occuring class as prediction\n",
    "\n",
    "# # k=10\n",
    "# # for i in range(k):\n",
    "# #     show_fig(X,Y,k_nearest[i])\n",
    "\n",
    "# classes = Y[k_nearest]\n",
    "# print(\"Top k classe:\",classes)\n",
    "\n",
    "# most_occuring_class = scipy.stats.mode(classes)\n",
    "# print(\"Most Occuring Class:\",most_occuring_class[0][0])\n",
    "\n",
    "# Y_pred = label_names[most_occuring_class[0][0]]\n",
    "# print(\"Predicted Class:\", Y_pred)"
   ]
  },
  {
   "cell_type": "code",
   "execution_count": 8,
   "metadata": {},
   "outputs": [
    {
     "data": {
      "text/plain": [
       "ModeResult(mode=array([1]), count=array([6]))"
      ]
     },
     "execution_count": 8,
     "metadata": {},
     "output_type": "execute_result"
    }
   ],
   "source": [
    "a = [1,1,2,2,2,3,5,3,1,1,1,1,2,6]\n",
    "stats.mode(a)"
   ]
  },
  {
   "cell_type": "code",
   "execution_count": null,
   "metadata": {},
   "outputs": [],
   "source": []
  }
 ],
 "metadata": {
  "kernelspec": {
   "display_name": "Python 3",
   "language": "python",
   "name": "python3"
  },
  "language_info": {
   "codemirror_mode": {
    "name": "ipython",
    "version": 3
   },
   "file_extension": ".py",
   "mimetype": "text/x-python",
   "name": "python",
   "nbconvert_exporter": "python",
   "pygments_lexer": "ipython3",
   "version": "3.7.6"
  }
 },
 "nbformat": 4,
 "nbformat_minor": 4
}
